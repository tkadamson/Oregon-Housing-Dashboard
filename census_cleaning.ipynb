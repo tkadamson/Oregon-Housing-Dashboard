{
 "cells": [
  {
   "cell_type": "code",
   "execution_count": 21,
   "id": "collected-marijuana",
   "metadata": {},
   "outputs": [],
   "source": [
    "import requests\n",
    "import json\n",
    "import string\n",
    "from config import API_KEY"
   ]
  },
  {
   "cell_type": "code",
   "execution_count": 9,
   "id": "convinced-going",
   "metadata": {},
   "outputs": [
    {
     "data": {
      "text/plain": [
       "['001',\n",
       " '003',\n",
       " '005',\n",
       " '007',\n",
       " '009',\n",
       " '011',\n",
       " '013',\n",
       " '015',\n",
       " '017',\n",
       " '019',\n",
       " '021',\n",
       " '023',\n",
       " '025',\n",
       " '027',\n",
       " '029',\n",
       " '031',\n",
       " '033',\n",
       " '035',\n",
       " '037',\n",
       " '039',\n",
       " '041',\n",
       " '043',\n",
       " '045',\n",
       " '047',\n",
       " '049',\n",
       " '051',\n",
       " '053',\n",
       " '055',\n",
       " '057',\n",
       " '059',\n",
       " '061',\n",
       " '063',\n",
       " '065',\n",
       " '067',\n",
       " '069',\n",
       " '071']"
      ]
     },
     "execution_count": 9,
     "metadata": {},
     "output_type": "execute_result"
    }
   ],
   "source": [
    "#Generate a list of OR county fips\n",
    "\n",
    "#Generate a list of odd numbers 1-71\n",
    "odd_numbers = list(range(1,73, 2))\n",
    "\n",
    "county_fips = []\n",
    "\n",
    "#Create leading zeros in the county_fips list\n",
    "for x in range(5):\n",
    "    county_fips.append(\"00\" + str(odd_numbers[x]))\n",
    "\n",
    "for x in range(5, len(odd_numbers)):\n",
    "    county_fips.append(\"0\" + str(odd_numbers[x]))\n",
    "    \n",
    "county_fips"
   ]
  },
  {
   "cell_type": "markdown",
   "id": "fluid-boring",
   "metadata": {},
   "source": [
    "### Get County Data"
   ]
  },
  {
   "cell_type": "code",
   "execution_count": 28,
   "id": "incorrect-brunei",
   "metadata": {},
   "outputs": [],
   "source": [
    "base_url = \"https://api.census.gov/data/\"\n",
    "\n",
    "county_data19 = requests.get(f\"{base_url}2019/acs/acs5?get=NAME,B01003_001E,B07013_002E,B07013_003E,B25064_001E,B19013_001E,B25063_001E&for=county:001&in=state:41\").json()\n",
    "\n",
    "#print(json.dumps(county_data, indent=4, sort_keys=True))\n",
    "\n",
    "#Grab county name and take only the name\n",
    "full_countyname = county_data19[1][0]\n",
    "\n",
    "full_countyname = full_countyname.split()\n",
    "\n",
    "county_name = full_countyname[0]\n",
    "\n",
    "#Grab all other 2019 variables\n",
    "county_pop = county_data19[1][1]\n",
    "homeowners = county_data19[1][2]\n",
    "renters = county_data19[1][3]\n",
    "median_rent = county_data19[1][4]\n",
    "median_income = county_data19[1][5]\n",
    "new_housing = county_data19[1][6]\n",
    "state_fips = county_data19[1][7]\n",
    "county_fips = county_data19[1][8]"
   ]
  },
  {
   "cell_type": "code",
   "execution_count": null,
   "id": "accurate-vector",
   "metadata": {},
   "outputs": [],
   "source": []
  }
 ],
 "metadata": {
  "kernelspec": {
   "display_name": "Python 3",
   "language": "python",
   "name": "python3"
  },
  "language_info": {
   "codemirror_mode": {
    "name": "ipython",
    "version": 3
   },
   "file_extension": ".py",
   "mimetype": "text/x-python",
   "name": "python",
   "nbconvert_exporter": "python",
   "pygments_lexer": "ipython3",
   "version": "3.6.10"
  }
 },
 "nbformat": 4,
 "nbformat_minor": 5
}
