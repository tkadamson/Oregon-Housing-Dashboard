{
 "cells": [
  {
   "cell_type": "code",
   "execution_count": 21,
   "id": "different-ending",
   "metadata": {},
   "outputs": [],
   "source": [
    "import requests\n",
    "import json"
   ]
  },
  {
   "cell_type": "code",
   "execution_count": 9,
   "id": "charitable-shakespeare",
   "metadata": {},
   "outputs": [
    {
     "data": {
      "text/plain": [
       "['001',\n",
       " '003',\n",
       " '005',\n",
       " '007',\n",
       " '009',\n",
       " '011',\n",
       " '013',\n",
       " '015',\n",
       " '017',\n",
       " '019',\n",
       " '021',\n",
       " '023',\n",
       " '025',\n",
       " '027',\n",
       " '029',\n",
       " '031',\n",
       " '033',\n",
       " '035',\n",
       " '037',\n",
       " '039',\n",
       " '041',\n",
       " '043',\n",
       " '045',\n",
       " '047',\n",
       " '049',\n",
       " '051',\n",
       " '053',\n",
       " '055',\n",
       " '057',\n",
       " '059',\n",
       " '061',\n",
       " '063',\n",
       " '065',\n",
       " '067',\n",
       " '069',\n",
       " '071']"
      ]
     },
     "execution_count": 9,
     "metadata": {},
     "output_type": "execute_result"
    }
   ],
   "source": [
    "#Generate a list of OR county fips\n",
    "\n",
    "#Generate a list of odd numbers 1-71\n",
    "odd_numbers = list(range(1,73, 2))\n",
    "\n",
    "county_fips = []\n",
    "\n",
    "#Create leading zeros in the county_fips list\n",
    "for x in range(5):\n",
    "    county_fips.append(\"00\" + str(odd_numbers[x]))\n",
    "\n",
    "for x in range(5, len(odd_numbers)):\n",
    "    county_fips.append(\"0\" + str(odd_numbers[x]))"
   ]
  },
  {
   "cell_type": "markdown",
   "id": "sophisticated-resolution",
   "metadata": {},
   "source": [
    "### Get County Data"
   ]
  },
  {
   "cell_type": "markdown",
   "id": "treated-mention",
   "metadata": {},
   "source": [
    "##### Census Codes\n",
    "* NAME = County Name\n",
    "* B01003_001E = County Population\n",
    "* B07013_002E = Homeowner Estimate\n",
    "* B07013_003E = Renter Estimate\n",
    "* B25064_001E = Median Rent\n",
    "* B19013_001E = Median Income\n",
    "* B25063_001E = New Housing Stock (built 2014 or later)"
   ]
  },
  {
   "cell_type": "code",
   "execution_count": 42,
   "id": "straight-intro",
   "metadata": {},
   "outputs": [],
   "source": [
    "base_url = \"https://api.census.gov/data/\"\n",
    "\n",
    "#2019 County Data\n",
    "county_data19 = requests.get(f\"{base_url}2019/acs/acs5?get=NAME,B01003_001E,B07013_002E,B07013_003E,B25064_001E,B19013_001E,B25063_001E&for=county:001&in=state:41\").json()\n",
    "\n",
    "#print(json.dumps(county_data19, indent=4, sort_keys=True))\n",
    "\n",
    "#Grab county name and take only the name\n",
    "full_countyname = county_data19[1][0]\n",
    "\n",
    "full_countyname = full_countyname.split()\n",
    "\n",
    "county_name = full_countyname[0]\n",
    "\n",
    "#Grab all other 2019 variables\n",
    "county_pop = county_data19[1][1]\n",
    "homeowners = county_data19[1][2]\n",
    "renters = county_data19[1][3]\n",
    "median_county_rent19 = county_data19[1][4]\n",
    "median_income = county_data19[1][5]\n",
    "new_housing = county_data19[1][6]\n",
    "state_fips = county_data19[1][7]\n",
    "county_fips = county_data19[1][8]\n",
    "\n",
    "#2015-2018 County Data (median rent only)\n",
    "county_data18 = requests.get(f\"{base_url}2018/acs/acs5?get=NAME,B25064_001E&for=county:001&in=state:41\").json()\n",
    "\n",
    "#print(json.dumps(county_data18, indent=4, sort_keys=True))\n",
    "\n",
    "median_county_rent18 = county_data18[1][1]\n",
    "\n",
    "county_data17 = requests.get(f\"{base_url}2017/acs/acs5?get=NAME,B25064_001E&for=county:001&in=state:41\").json()\n",
    "\n",
    "median_county_rent17 = county_data17[1][1]\n",
    "\n",
    "county_data16 = requests.get(f\"{base_url}2016/acs/acs5?get=NAME,B25064_001E&for=county:001&in=state:41\").json()\n",
    "\n",
    "median_county_rent16 = county_data16[1][1]\n",
    "\n",
    "county_data15 = requests.get(f\"{base_url}2015/acs/acs5?get=NAME,B25064_001E&for=county:001&in=state:41\").json()\n",
    "\n",
    "median_county_rent15 = county_data15[1][1]"
   ]
  },
  {
   "cell_type": "markdown",
   "id": "welsh-apollo",
   "metadata": {},
   "source": [
    "### Get State/National Rent Data"
   ]
  },
  {
   "cell_type": "code",
   "execution_count": 40,
   "id": "senior-appendix",
   "metadata": {},
   "outputs": [],
   "source": [
    "state_data19 = requests.get(f\"{base_url}2019/acs/acs5?get=NAME,B25064_001E&for=state:41\").json()\n",
    "\n",
    "#print(json.dumps(state_data19, indent=4, sort_keys=True))\n",
    "\n",
    "median_state_rent19 = state_data19[1][1]\n",
    "\n",
    "state_data18 = requests.get(f\"{base_url}2018/acs/acs5?get=NAME,B25064_001E&for=state:41\").json()\n",
    "\n",
    "median_state_rent18 = state_data18[1][1]\n",
    "\n",
    "state_data17 = requests.get(f\"{base_url}2017/acs/acs5?get=NAME,B25064_001E&for=state:41\").json()\n",
    "\n",
    "median_state_rent17 = state_data17[1][1]\n",
    "\n",
    "state_data16 = requests.get(f\"{base_url}2016/acs/acs5?get=NAME,B25064_001E&for=state:41\").json()\n",
    "\n",
    "median_state_rent16 = state_data16[1][1]\n",
    "\n",
    "state_data15 = requests.get(f\"{base_url}2015/acs/acs5?get=NAME,B25064_001E&for=state:41\").json()\n",
    "\n",
    "median_state_rent15 = state_data15[1][1]"
   ]
  },
  {
   "cell_type": "code",
   "execution_count": 45,
   "id": "recognized-stuart",
   "metadata": {},
   "outputs": [],
   "source": [
    "us_data19 = requests.get(f\"{base_url}2019/acs/acs5?get=NAME,B25064_001E&for=us:*\").json()\n",
    "\n",
    "#print(json.dumps(us_data19, indent=4, sort_keys=True))\n",
    "\n",
    "median_us_rent19 = us_data19[1][1]\n",
    "\n",
    "us_data18 = requests.get(f\"{base_url}2018/acs/acs5?get=NAME,B25064_001E&for=us:*\").json()\n",
    "\n",
    "median_us_rent18 = us_data18[1][1]\n",
    "\n",
    "us_data17 = requests.get(f\"{base_url}2017/acs/acs5?get=NAME,B25064_001E&for=us:*\").json()\n",
    "\n",
    "us_state_rent17 = us_data17[1][1]\n",
    "\n",
    "us_data16 = requests.get(f\"{base_url}2016/acs/acs5?get=NAME,B25064_001E&for=us:*\").json()\n",
    "\n",
    "median_us_rent16 = us_data16[1][1]\n",
    "\n",
    "us_data15 = requests.get(f\"{base_url}2015/acs/acs5?get=NAME,B25064_001E&for=us:*\").json()\n",
    "\n",
    "median_us_rent15 = us_data15[1][1]"
   ]
  },
  {
   "cell_type": "code",
   "execution_count": null,
   "id": "measured-airplane",
   "metadata": {},
   "outputs": [],
   "source": []
  }
 ],
 "metadata": {
  "kernelspec": {
   "display_name": "Python 3",
   "language": "python",
   "name": "python3"
  },
  "language_info": {
   "codemirror_mode": {
    "name": "ipython",
    "version": 3
   },
   "file_extension": ".py",
   "mimetype": "text/x-python",
   "name": "python",
   "nbconvert_exporter": "python",
   "pygments_lexer": "ipython3",
   "version": "3.6.10"
  }
 },
 "nbformat": 4,
 "nbformat_minor": 5
}
